{
 "cells": [
  {
   "cell_type": "code",
   "execution_count": 85,
   "metadata": {},
   "outputs": [],
   "source": [
    "import pandas as pd\n",
    "import numpy as np\n",
    "import warnings\n",
    "warnings.filterwarnings('ignore')\n",
    "pd.set_option('display.max_columns',None)"
   ]
  },
  {
   "cell_type": "code",
   "execution_count": 86,
   "metadata": {},
   "outputs": [],
   "source": [
    "movies_df = pd.read_csv('../input/movies_metadata.csv')\n",
    "ratings_df = pd.read_csv('../input/ratings_small.csv')\n",
    "casts_df = pd.read_csv('../input/cast.csv').sample(frac=0.2, random_state=42)"
   ]
  },
  {
   "cell_type": "code",
   "execution_count": 87,
   "metadata": {},
   "outputs": [],
   "source": [
    "def unpac_column_list(df, column_name):\n",
    "    df[column_name] = df[column_name].apply(lambda x: eval(x))\n",
    "    return df"
   ]
  },
  {
   "cell_type": "code",
   "execution_count": 88,
   "metadata": {},
   "outputs": [],
   "source": [
    "def rename_column(df, old_column, new_column):\n",
    "    data = df.rename(columns={old_column:new_column})\n",
    "    return data"
   ]
  },
  {
   "cell_type": "code",
   "execution_count": 89,
   "metadata": {},
   "outputs": [],
   "source": [
    "movies_df = unpac_column_list(movies_df, 'genres')"
   ]
  },
  {
   "cell_type": "code",
   "execution_count": 90,
   "metadata": {},
   "outputs": [],
   "source": [
    "genres_df = movies_df[['genres', 'id']]\n",
    "genres_df = rename_column(genres_df, 'id', 'movie_id')"
   ]
  },
  {
   "cell_type": "code",
   "execution_count": 91,
   "metadata": {},
   "outputs": [],
   "source": [
    "def unpac_genre_dict(df, column_name):\n",
    "    unpac_dict = df.explode(column_name)\n",
    "    column_df = pd.concat([unpac_dict.drop([column_name], axis=1), unpac_dict[column_name].apply(pd.Series)], axis=1)\n",
    "    return column_df"
   ]
  },
  {
   "cell_type": "code",
   "execution_count": 92,
   "metadata": {},
   "outputs": [],
   "source": [
    "unpacked_genre_df = unpac_genre_dict(genres_df, 'genres')"
   ]
  },
  {
   "cell_type": "code",
   "execution_count": 93,
   "metadata": {},
   "outputs": [],
   "source": [
    "unpacked_genre_df = rename_column(unpacked_genre_df, 'id','genre_id')"
   ]
  },
  {
   "cell_type": "code",
   "execution_count": 94,
   "metadata": {},
   "outputs": [],
   "source": [
    "def drop_column(df, column_list):\n",
    "    data = df.drop(columns =column_list)\n",
    "    return data"
   ]
  },
  {
   "cell_type": "code",
   "execution_count": 95,
   "metadata": {},
   "outputs": [],
   "source": [
    "column_to_drop = [0]"
   ]
  },
  {
   "cell_type": "code",
   "execution_count": 96,
   "metadata": {},
   "outputs": [],
   "source": [
    "unpacked_genre_df = drop_column(unpacked_genre_df, column_to_drop)"
   ]
  },
  {
   "cell_type": "code",
   "execution_count": 97,
   "metadata": {},
   "outputs": [],
   "source": [
    "def merge_two_dfs(df1, df2, left, right, how):\n",
    "    data = pd.merge(df1, df2, left_on=left, right_on=right, how=how)\n",
    "    return data"
   ]
  },
  {
   "cell_type": "code",
   "execution_count": 98,
   "metadata": {},
   "outputs": [],
   "source": [
    "def to_numeric(data, column):\n",
    "    data[column] = pd.to_numeric(data[column], errors='coerce', downcast='integer')\n",
    "    data = data.fillna(0)\n",
    "    data[column] = data[column].astype(int)\n",
    "    return data"
   ]
  },
  {
   "cell_type": "code",
   "execution_count": 99,
   "metadata": {},
   "outputs": [],
   "source": [
    "movies_genre_df = merge_two_dfs(movies_df, unpacked_genre_df, 'id', 'movie_id', 'left')"
   ]
  },
  {
   "cell_type": "code",
   "execution_count": 100,
   "metadata": {},
   "outputs": [],
   "source": [
    "movies_genre_df = to_numeric(movies_genre_df, column='movie_id')"
   ]
  },
  {
   "cell_type": "code",
   "execution_count": 101,
   "metadata": {},
   "outputs": [],
   "source": [
    "movies_genre_df_copy = movies_genre_df.copy()"
   ]
  },
  {
   "cell_type": "code",
   "execution_count": 102,
   "metadata": {},
   "outputs": [],
   "source": [
    "columns_to_drop = ['genres', 'homepage', 'imdb_id', 'poster_path', 'spoken_languages', \n",
    "                   'tagline', 'id', 'production_companies', 'production_countries', 'belongs_to_collection']"
   ]
  },
  {
   "cell_type": "code",
   "execution_count": 103,
   "metadata": {},
   "outputs": [],
   "source": [
    "movies_genre_df_copy = drop_column(movies_genre_df_copy, columns_to_drop)"
   ]
  },
  {
   "cell_type": "code",
   "execution_count": 104,
   "metadata": {},
   "outputs": [],
   "source": [
    "movies_genre_rating_df = merge_two_dfs(movies_genre_df_copy, ratings_df, 'movie_id', 'movieId', how= 'inner')"
   ]
  },
  {
   "cell_type": "code",
   "execution_count": 105,
   "metadata": {},
   "outputs": [],
   "source": [
    "columns_to_drop = ['overview', 'original_title', 'genre_id', 'movieId', 'timestamp']"
   ]
  },
  {
   "cell_type": "code",
   "execution_count": 106,
   "metadata": {},
   "outputs": [],
   "source": [
    "movies_genre_rating_df = drop_column(movies_genre_rating_df, columns_to_drop)"
   ]
  },
  {
   "cell_type": "code",
   "execution_count": 107,
   "metadata": {},
   "outputs": [],
   "source": [
    "movies_genre_rating_casts_df = merge_two_dfs(movies_genre_rating_df, casts_df, 'movie_id', 'movie_id', how= 'inner')"
   ]
  },
  {
   "cell_type": "code",
   "execution_count": 108,
   "metadata": {},
   "outputs": [],
   "source": [
    "movies_genre_rating_casts_df = rename_column(movies_genre_rating_casts_df, 'name_x', \"genre_name\")\n",
    "movies_genre_rating_casts_df = rename_column(movies_genre_rating_casts_df, 'name_y', \"cast_name\")"
   ]
  },
  {
   "cell_type": "code",
   "execution_count": 109,
   "metadata": {},
   "outputs": [],
   "source": [
    "columns_to_drop = ['credit_id', 'id', 'order', 'profile_path', 'cast_id', 'adult']"
   ]
  },
  {
   "cell_type": "code",
   "execution_count": 110,
   "metadata": {},
   "outputs": [],
   "source": [
    "movies_genre_rating_casts_df = drop_column(movies_genre_rating_casts_df, columns_to_drop)"
   ]
  },
  {
   "cell_type": "code",
   "execution_count": 111,
   "metadata": {},
   "outputs": [],
   "source": [
    "order_column_list = ['budget', 'original_language', 'popularity', 'release_date',\n",
    "       'revenue', 'runtime', 'status', 'movie_id', 'title', 'video', 'vote_average',\n",
    "       'vote_count', 'genre_name', 'userId', 'cast_name',\n",
    "       'character', 'gender', 'rating']"
   ]
  },
  {
   "cell_type": "code",
   "execution_count": 112,
   "metadata": {},
   "outputs": [],
   "source": [
    "movies_genre_rating_casts_df = movies_genre_rating_casts_df.reindex(columns=order_column_list)"
   ]
  },
  {
   "cell_type": "code",
   "execution_count": 113,
   "metadata": {},
   "outputs": [],
   "source": [
    "def get_missing_values(df):\n",
    "        features_with_missing_values = [features for features in df.columns if\n",
    "                                        df[features].isnull().sum()>0]\n",
    "        for features in features_with_missing_values:\n",
    "            print(features, np.round(df[features].isnull().sum(), 4), \"missing Values\")"
   ]
  },
  {
   "cell_type": "code",
   "execution_count": 114,
   "metadata": {},
   "outputs": [
    {
     "name": "stdout",
     "output_type": "stream",
     "text": [
      "cast_name 71 missing Values\n",
      "character 3670 missing Values\n",
      "gender 71 missing Values\n"
     ]
    }
   ],
   "source": [
    "missing_values = get_missing_values(movies_genre_rating_casts_df)"
   ]
  },
  {
   "cell_type": "code",
   "execution_count": 115,
   "metadata": {},
   "outputs": [],
   "source": [
    "def fill_missing_cat(data,col,value):\n",
    "    data[col] = data[col].fillna(value)\n",
    "    return data"
   ]
  },
  {
   "cell_type": "code",
   "execution_count": 116,
   "metadata": {},
   "outputs": [],
   "source": [
    "list_of_columns = ['cast_name', 'character']"
   ]
  },
  {
   "cell_type": "code",
   "execution_count": 117,
   "metadata": {},
   "outputs": [],
   "source": [
    "movies_genre_rating_casts_df = fill_missing_cat(movies_genre_rating_casts_df, list_of_columns, 'Unknown')\n",
    "movies_genre_rating_casts_df = fill_missing_cat(movies_genre_rating_casts_df, 'gender', 0)"
   ]
  },
  {
   "cell_type": "code",
   "execution_count": 118,
   "metadata": {},
   "outputs": [],
   "source": [
    "missing_values = get_missing_values(movies_genre_rating_casts_df)"
   ]
  },
  {
   "cell_type": "code",
   "execution_count": 119,
   "metadata": {},
   "outputs": [],
   "source": [
    "string_column_list = ['original_language', 'status', 'title', 'video', 'genre_name', 'cast_name', 'character']\n",
    "float_column_list = ['budget', 'popularity']\n",
    "datetime_column_list = ['release_date']\n"
   ]
  },
  {
   "cell_type": "code",
   "execution_count": 120,
   "metadata": {},
   "outputs": [],
   "source": [
    "def convert_object(data, column_list, data_type):\n",
    "    data[column_list] = data[column_list].astype(data_type)\n",
    "    return data\n",
    "    "
   ]
  },
  {
   "cell_type": "code",
   "execution_count": 121,
   "metadata": {},
   "outputs": [],
   "source": [
    "movies_genre_rating_casts_df = convert_object(movies_genre_rating_casts_df, float_column_list, float)"
   ]
  },
  {
   "cell_type": "code",
   "execution_count": 122,
   "metadata": {},
   "outputs": [],
   "source": [
    "movies_genre_rating_casts_df = convert_object(movies_genre_rating_casts_df, string_column_list, str)"
   ]
  },
  {
   "cell_type": "code",
   "execution_count": 123,
   "metadata": {},
   "outputs": [],
   "source": [
    "movies_genre_rating_casts_df['status'] = movies_genre_rating_casts_df['status'].replace('0', \"Uknown\")"
   ]
  },
  {
   "cell_type": "code",
   "execution_count": 124,
   "metadata": {},
   "outputs": [],
   "source": [
    "movies_genre_rating_casts_df['genre_name'] = movies_genre_rating_casts_df['genre_name'].replace('0', \"Uknown\")"
   ]
  },
  {
   "cell_type": "code",
   "execution_count": 125,
   "metadata": {},
   "outputs": [],
   "source": [
    "movies_genre_rating_casts_df = movies_genre_rating_casts_df[movies_genre_rating_casts_df['release_date']!=0]"
   ]
  },
  {
   "cell_type": "code",
   "execution_count": 126,
   "metadata": {},
   "outputs": [],
   "source": [
    "movies_genre_rating_casts_df[['release_year', 'release_month', 'release_day']] = movies_genre_rating_casts_df['release_date'].str.split('-', 2).tolist()"
   ]
  },
  {
   "cell_type": "code",
   "execution_count": 127,
   "metadata": {},
   "outputs": [],
   "source": [
    "movies_genre_rating_casts_df = drop_column(movies_genre_rating_casts_df, 'release_date')"
   ]
  },
  {
   "cell_type": "code",
   "execution_count": 128,
   "metadata": {},
   "outputs": [],
   "source": [
    "movies_genre_rating_casts_df = movies_genre_rating_casts_df.set_index('release_year')"
   ]
  },
  {
   "cell_type": "code",
   "execution_count": 129,
   "metadata": {},
   "outputs": [],
   "source": [
    "movies_genre_rating_casts_df = movies_genre_rating_casts_df.drop_duplicates()"
   ]
  },
  {
   "cell_type": "code",
   "execution_count": 130,
   "metadata": {},
   "outputs": [],
   "source": [
    "movies_genre_rating_casts_df.to_csv('../output/cleaned_data.csv')"
   ]
  },
  {
   "cell_type": "code",
   "execution_count": 139,
   "metadata": {},
   "outputs": [
    {
     "data": {
      "text/html": [
       "<div>\n",
       "<style scoped>\n",
       "    .dataframe tbody tr th:only-of-type {\n",
       "        vertical-align: middle;\n",
       "    }\n",
       "\n",
       "    .dataframe tbody tr th {\n",
       "        vertical-align: top;\n",
       "    }\n",
       "\n",
       "    .dataframe thead th {\n",
       "        text-align: right;\n",
       "    }\n",
       "</style>\n",
       "<table border=\"1\" class=\"dataframe\">\n",
       "  <thead>\n",
       "    <tr style=\"text-align: right;\">\n",
       "      <th></th>\n",
       "      <th>budget</th>\n",
       "      <th>original_language</th>\n",
       "      <th>popularity</th>\n",
       "      <th>revenue</th>\n",
       "      <th>runtime</th>\n",
       "      <th>status</th>\n",
       "      <th>movie_id</th>\n",
       "      <th>title</th>\n",
       "      <th>video</th>\n",
       "      <th>vote_average</th>\n",
       "      <th>vote_count</th>\n",
       "      <th>genre_name</th>\n",
       "      <th>userId</th>\n",
       "      <th>cast_name</th>\n",
       "      <th>character</th>\n",
       "      <th>gender</th>\n",
       "      <th>rating</th>\n",
       "      <th>release_month</th>\n",
       "      <th>release_day</th>\n",
       "    </tr>\n",
       "    <tr>\n",
       "      <th>release_year</th>\n",
       "      <th></th>\n",
       "      <th></th>\n",
       "      <th></th>\n",
       "      <th></th>\n",
       "      <th></th>\n",
       "      <th></th>\n",
       "      <th></th>\n",
       "      <th></th>\n",
       "      <th></th>\n",
       "      <th></th>\n",
       "      <th></th>\n",
       "      <th></th>\n",
       "      <th></th>\n",
       "      <th></th>\n",
       "      <th></th>\n",
       "      <th></th>\n",
       "      <th></th>\n",
       "      <th></th>\n",
       "      <th></th>\n",
       "    </tr>\n",
       "  </thead>\n",
       "  <tbody>\n",
       "    <tr>\n",
       "      <th>1995</th>\n",
       "      <td>60000000.0</td>\n",
       "      <td>en</td>\n",
       "      <td>17.924927</td>\n",
       "      <td>187436818.0</td>\n",
       "      <td>170.0</td>\n",
       "      <td>Released</td>\n",
       "      <td>949</td>\n",
       "      <td>Heat</td>\n",
       "      <td>False</td>\n",
       "      <td>7.7</td>\n",
       "      <td>1886.0</td>\n",
       "      <td>Action</td>\n",
       "      <td>23</td>\n",
       "      <td>Tone Loc</td>\n",
       "      <td>Richard Torena</td>\n",
       "      <td>2.0</td>\n",
       "      <td>3.5</td>\n",
       "      <td>12</td>\n",
       "      <td>15</td>\n",
       "    </tr>\n",
       "    <tr>\n",
       "      <th>1995</th>\n",
       "      <td>60000000.0</td>\n",
       "      <td>en</td>\n",
       "      <td>17.924927</td>\n",
       "      <td>187436818.0</td>\n",
       "      <td>170.0</td>\n",
       "      <td>Released</td>\n",
       "      <td>949</td>\n",
       "      <td>Heat</td>\n",
       "      <td>False</td>\n",
       "      <td>7.7</td>\n",
       "      <td>1886.0</td>\n",
       "      <td>Action</td>\n",
       "      <td>23</td>\n",
       "      <td>Kai Soremekun</td>\n",
       "      <td>Prostitute</td>\n",
       "      <td>1.0</td>\n",
       "      <td>3.5</td>\n",
       "      <td>12</td>\n",
       "      <td>15</td>\n",
       "    </tr>\n",
       "    <tr>\n",
       "      <th>1995</th>\n",
       "      <td>60000000.0</td>\n",
       "      <td>en</td>\n",
       "      <td>17.924927</td>\n",
       "      <td>187436818.0</td>\n",
       "      <td>170.0</td>\n",
       "      <td>Released</td>\n",
       "      <td>949</td>\n",
       "      <td>Heat</td>\n",
       "      <td>False</td>\n",
       "      <td>7.7</td>\n",
       "      <td>1886.0</td>\n",
       "      <td>Action</td>\n",
       "      <td>23</td>\n",
       "      <td>Susan Traylor</td>\n",
       "      <td>Elaine Cheritto</td>\n",
       "      <td>1.0</td>\n",
       "      <td>3.5</td>\n",
       "      <td>12</td>\n",
       "      <td>15</td>\n",
       "    </tr>\n",
       "    <tr>\n",
       "      <th>1995</th>\n",
       "      <td>60000000.0</td>\n",
       "      <td>en</td>\n",
       "      <td>17.924927</td>\n",
       "      <td>187436818.0</td>\n",
       "      <td>170.0</td>\n",
       "      <td>Released</td>\n",
       "      <td>949</td>\n",
       "      <td>Heat</td>\n",
       "      <td>False</td>\n",
       "      <td>7.7</td>\n",
       "      <td>1886.0</td>\n",
       "      <td>Action</td>\n",
       "      <td>23</td>\n",
       "      <td>Kim Staunton</td>\n",
       "      <td>Lillian</td>\n",
       "      <td>1.0</td>\n",
       "      <td>3.5</td>\n",
       "      <td>12</td>\n",
       "      <td>15</td>\n",
       "    </tr>\n",
       "    <tr>\n",
       "      <th>1995</th>\n",
       "      <td>60000000.0</td>\n",
       "      <td>en</td>\n",
       "      <td>17.924927</td>\n",
       "      <td>187436818.0</td>\n",
       "      <td>170.0</td>\n",
       "      <td>Released</td>\n",
       "      <td>949</td>\n",
       "      <td>Heat</td>\n",
       "      <td>False</td>\n",
       "      <td>7.7</td>\n",
       "      <td>1886.0</td>\n",
       "      <td>Action</td>\n",
       "      <td>23</td>\n",
       "      <td>Paul Herman</td>\n",
       "      <td>Sergeant Heinz</td>\n",
       "      <td>2.0</td>\n",
       "      <td>3.5</td>\n",
       "      <td>12</td>\n",
       "      <td>15</td>\n",
       "    </tr>\n",
       "    <tr>\n",
       "      <th>1995</th>\n",
       "      <td>60000000.0</td>\n",
       "      <td>en</td>\n",
       "      <td>17.924927</td>\n",
       "      <td>187436818.0</td>\n",
       "      <td>170.0</td>\n",
       "      <td>Released</td>\n",
       "      <td>949</td>\n",
       "      <td>Heat</td>\n",
       "      <td>False</td>\n",
       "      <td>7.7</td>\n",
       "      <td>1886.0</td>\n",
       "      <td>Action</td>\n",
       "      <td>23</td>\n",
       "      <td>Hank Azaria</td>\n",
       "      <td>Alan Marciano</td>\n",
       "      <td>2.0</td>\n",
       "      <td>3.5</td>\n",
       "      <td>12</td>\n",
       "      <td>15</td>\n",
       "    </tr>\n",
       "    <tr>\n",
       "      <th>1995</th>\n",
       "      <td>60000000.0</td>\n",
       "      <td>en</td>\n",
       "      <td>17.924927</td>\n",
       "      <td>187436818.0</td>\n",
       "      <td>170.0</td>\n",
       "      <td>Released</td>\n",
       "      <td>949</td>\n",
       "      <td>Heat</td>\n",
       "      <td>False</td>\n",
       "      <td>7.7</td>\n",
       "      <td>1886.0</td>\n",
       "      <td>Action</td>\n",
       "      <td>23</td>\n",
       "      <td>Farrah Forke</td>\n",
       "      <td>Claudia</td>\n",
       "      <td>1.0</td>\n",
       "      <td>3.5</td>\n",
       "      <td>12</td>\n",
       "      <td>15</td>\n",
       "    </tr>\n",
       "    <tr>\n",
       "      <th>1995</th>\n",
       "      <td>60000000.0</td>\n",
       "      <td>en</td>\n",
       "      <td>17.924927</td>\n",
       "      <td>187436818.0</td>\n",
       "      <td>170.0</td>\n",
       "      <td>Released</td>\n",
       "      <td>949</td>\n",
       "      <td>Heat</td>\n",
       "      <td>False</td>\n",
       "      <td>7.7</td>\n",
       "      <td>1886.0</td>\n",
       "      <td>Action</td>\n",
       "      <td>23</td>\n",
       "      <td>Kimberly Flynn</td>\n",
       "      <td>Casals' Date</td>\n",
       "      <td>1.0</td>\n",
       "      <td>3.5</td>\n",
       "      <td>12</td>\n",
       "      <td>15</td>\n",
       "    </tr>\n",
       "    <tr>\n",
       "      <th>1995</th>\n",
       "      <td>60000000.0</td>\n",
       "      <td>en</td>\n",
       "      <td>17.924927</td>\n",
       "      <td>187436818.0</td>\n",
       "      <td>170.0</td>\n",
       "      <td>Released</td>\n",
       "      <td>949</td>\n",
       "      <td>Heat</td>\n",
       "      <td>False</td>\n",
       "      <td>7.7</td>\n",
       "      <td>1886.0</td>\n",
       "      <td>Action</td>\n",
       "      <td>23</td>\n",
       "      <td>Philip Ettington</td>\n",
       "      <td>Ellis (uncredited)</td>\n",
       "      <td>2.0</td>\n",
       "      <td>3.5</td>\n",
       "      <td>12</td>\n",
       "      <td>15</td>\n",
       "    </tr>\n",
       "    <tr>\n",
       "      <th>1995</th>\n",
       "      <td>60000000.0</td>\n",
       "      <td>en</td>\n",
       "      <td>17.924927</td>\n",
       "      <td>187436818.0</td>\n",
       "      <td>170.0</td>\n",
       "      <td>Released</td>\n",
       "      <td>949</td>\n",
       "      <td>Heat</td>\n",
       "      <td>False</td>\n",
       "      <td>7.7</td>\n",
       "      <td>1886.0</td>\n",
       "      <td>Action</td>\n",
       "      <td>23</td>\n",
       "      <td>Iva Franks Singer</td>\n",
       "      <td>Waitress (uncredited)</td>\n",
       "      <td>1.0</td>\n",
       "      <td>3.5</td>\n",
       "      <td>12</td>\n",
       "      <td>15</td>\n",
       "    </tr>\n",
       "  </tbody>\n",
       "</table>\n",
       "</div>"
      ],
      "text/plain": [
       "                  budget original_language  popularity      revenue  runtime  \\\n",
       "release_year                                                                   \n",
       "1995          60000000.0                en   17.924927  187436818.0    170.0   \n",
       "1995          60000000.0                en   17.924927  187436818.0    170.0   \n",
       "1995          60000000.0                en   17.924927  187436818.0    170.0   \n",
       "1995          60000000.0                en   17.924927  187436818.0    170.0   \n",
       "1995          60000000.0                en   17.924927  187436818.0    170.0   \n",
       "1995          60000000.0                en   17.924927  187436818.0    170.0   \n",
       "1995          60000000.0                en   17.924927  187436818.0    170.0   \n",
       "1995          60000000.0                en   17.924927  187436818.0    170.0   \n",
       "1995          60000000.0                en   17.924927  187436818.0    170.0   \n",
       "1995          60000000.0                en   17.924927  187436818.0    170.0   \n",
       "\n",
       "                status  movie_id title  video  vote_average  vote_count  \\\n",
       "release_year                                                              \n",
       "1995          Released       949  Heat  False           7.7      1886.0   \n",
       "1995          Released       949  Heat  False           7.7      1886.0   \n",
       "1995          Released       949  Heat  False           7.7      1886.0   \n",
       "1995          Released       949  Heat  False           7.7      1886.0   \n",
       "1995          Released       949  Heat  False           7.7      1886.0   \n",
       "1995          Released       949  Heat  False           7.7      1886.0   \n",
       "1995          Released       949  Heat  False           7.7      1886.0   \n",
       "1995          Released       949  Heat  False           7.7      1886.0   \n",
       "1995          Released       949  Heat  False           7.7      1886.0   \n",
       "1995          Released       949  Heat  False           7.7      1886.0   \n",
       "\n",
       "             genre_name  userId          cast_name              character  \\\n",
       "release_year                                                                \n",
       "1995             Action      23           Tone Loc         Richard Torena   \n",
       "1995             Action      23      Kai Soremekun             Prostitute   \n",
       "1995             Action      23      Susan Traylor        Elaine Cheritto   \n",
       "1995             Action      23       Kim Staunton                Lillian   \n",
       "1995             Action      23        Paul Herman         Sergeant Heinz   \n",
       "1995             Action      23        Hank Azaria          Alan Marciano   \n",
       "1995             Action      23       Farrah Forke                Claudia   \n",
       "1995             Action      23     Kimberly Flynn           Casals' Date   \n",
       "1995             Action      23   Philip Ettington     Ellis (uncredited)   \n",
       "1995             Action      23  Iva Franks Singer  Waitress (uncredited)   \n",
       "\n",
       "              gender  rating release_month release_day  \n",
       "release_year                                            \n",
       "1995             2.0     3.5            12          15  \n",
       "1995             1.0     3.5            12          15  \n",
       "1995             1.0     3.5            12          15  \n",
       "1995             1.0     3.5            12          15  \n",
       "1995             2.0     3.5            12          15  \n",
       "1995             2.0     3.5            12          15  \n",
       "1995             1.0     3.5            12          15  \n",
       "1995             1.0     3.5            12          15  \n",
       "1995             2.0     3.5            12          15  \n",
       "1995             1.0     3.5            12          15  "
      ]
     },
     "execution_count": 139,
     "metadata": {},
     "output_type": "execute_result"
    }
   ],
   "source": [
    "movies_genre_rating_casts_df.head(10)"
   ]
  },
  {
   "cell_type": "code",
   "execution_count": null,
   "metadata": {},
   "outputs": [],
   "source": []
  }
 ],
 "metadata": {
  "kernelspec": {
   "display_name": "Python 3",
   "language": "python",
   "name": "python3"
  },
  "language_info": {
   "codemirror_mode": {
    "name": "ipython",
    "version": 3
   },
   "file_extension": ".py",
   "mimetype": "text/x-python",
   "name": "python",
   "nbconvert_exporter": "python",
   "pygments_lexer": "ipython3",
   "version": "3.6.5"
  }
 },
 "nbformat": 4,
 "nbformat_minor": 4
}
