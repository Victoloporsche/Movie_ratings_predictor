{
 "cells": [
  {
   "cell_type": "code",
   "execution_count": 1,
   "metadata": {},
   "outputs": [],
   "source": [
    "import pandas as pd\n",
    "import numpy as np\n",
    "import warnings\n",
    "warnings.filterwarnings('ignore')\n",
    "pd.set_option('display.max_columns',None)"
   ]
  },
  {
   "cell_type": "code",
   "execution_count": 2,
   "metadata": {},
   "outputs": [],
   "source": [
    "movies_df = pd.read_csv('../input/movies_metadata.csv')\n",
    "ratings_df = pd.read_csv('../input/ratings_small.csv')\n",
    "casts_df = pd.read_csv('../input/cast.csv').sample(frac=0.2, random_state=42)"
   ]
  },
  {
   "cell_type": "code",
   "execution_count": 3,
   "metadata": {},
   "outputs": [],
   "source": [
    "def unpac_column_list(df, column_name):\n",
    "    df[column_name] = df[column_name].apply(lambda x: eval(x))\n",
    "    return df"
   ]
  },
  {
   "cell_type": "code",
   "execution_count": 4,
   "metadata": {},
   "outputs": [],
   "source": [
    "def rename_column(df, old_column, new_column):\n",
    "    data = df.rename(columns={old_column:new_column})\n",
    "    return data"
   ]
  },
  {
   "cell_type": "code",
   "execution_count": 5,
   "metadata": {},
   "outputs": [],
   "source": [
    "movies_df = unpac_column_list(movies_df, 'genres')"
   ]
  },
  {
   "cell_type": "code",
   "execution_count": 6,
   "metadata": {},
   "outputs": [],
   "source": [
    "genres_df = movies_df[['genres', 'id']]\n",
    "genres_df = rename_column(genres_df, 'id', 'movie_id')"
   ]
  },
  {
   "cell_type": "code",
   "execution_count": 7,
   "metadata": {},
   "outputs": [],
   "source": [
    "def unpac_genre_dict(df, column_name):\n",
    "    unpac_dict = df.explode(column_name)\n",
    "    column_df = pd.concat([unpac_dict.drop([column_name], axis=1), unpac_dict[column_name].apply(pd.Series)], axis=1)\n",
    "    return column_df"
   ]
  },
  {
   "cell_type": "code",
   "execution_count": 8,
   "metadata": {},
   "outputs": [],
   "source": [
    "unpacked_genre_df = unpac_genre_dict(genres_df, 'genres')"
   ]
  },
  {
   "cell_type": "code",
   "execution_count": 9,
   "metadata": {},
   "outputs": [],
   "source": [
    "unpacked_genre_df = rename_column(unpacked_genre_df, 'id','genre_id')"
   ]
  },
  {
   "cell_type": "code",
   "execution_count": 10,
   "metadata": {},
   "outputs": [],
   "source": [
    "def drop_column(df, column_list):\n",
    "    data = df.drop(columns =column_list)\n",
    "    return data"
   ]
  },
  {
   "cell_type": "code",
   "execution_count": 11,
   "metadata": {},
   "outputs": [],
   "source": [
    "column_to_drop = [0]"
   ]
  },
  {
   "cell_type": "code",
   "execution_count": 12,
   "metadata": {},
   "outputs": [],
   "source": [
    "unpacked_genre_df = drop_column(unpacked_genre_df, column_to_drop)"
   ]
  },
  {
   "cell_type": "code",
   "execution_count": 13,
   "metadata": {},
   "outputs": [],
   "source": [
    "def merge_two_dfs(df1, df2, left, right, how):\n",
    "    data = pd.merge(df1, df2, left_on=left, right_on=right, how=how)\n",
    "    return data"
   ]
  },
  {
   "cell_type": "code",
   "execution_count": 14,
   "metadata": {},
   "outputs": [],
   "source": [
    "def to_numeric(data, column):\n",
    "    data[column] = pd.to_numeric(data[column], errors='coerce', downcast='integer')\n",
    "    data = data.fillna(0)\n",
    "    data[column] = data[column].astype(int)\n",
    "    return data"
   ]
  },
  {
   "cell_type": "code",
   "execution_count": 15,
   "metadata": {},
   "outputs": [],
   "source": [
    "movies_genre_df = merge_two_dfs(movies_df, unpacked_genre_df, 'id', 'movie_id', 'left')"
   ]
  },
  {
   "cell_type": "code",
   "execution_count": 16,
   "metadata": {},
   "outputs": [],
   "source": [
    "movies_genre_df = to_numeric(movies_genre_df, column='movie_id')"
   ]
  },
  {
   "cell_type": "code",
   "execution_count": 699,
   "metadata": {},
   "outputs": [],
   "source": [
    "movies_genre_df_copy = movies_genre_df.copy()"
   ]
  },
  {
   "cell_type": "code",
   "execution_count": 700,
   "metadata": {},
   "outputs": [],
   "source": [
    "columns_to_drop = ['genres', 'homepage', 'imdb_id', 'poster_path', 'spoken_languages', \n",
    "                   'tagline', 'id', 'production_companies', 'production_countries', 'belongs_to_collection']"
   ]
  },
  {
   "cell_type": "code",
   "execution_count": 701,
   "metadata": {},
   "outputs": [],
   "source": [
    "movies_genre_df_copy = drop_column(movies_genre_df_copy, columns_to_drop)"
   ]
  },
  {
   "cell_type": "code",
   "execution_count": 702,
   "metadata": {},
   "outputs": [],
   "source": [
    "movies_genre_rating_df = merge_two_dfs(movies_genre_df_copy, ratings_df, 'movie_id', 'movieId', how= 'inner')"
   ]
  },
  {
   "cell_type": "code",
   "execution_count": 703,
   "metadata": {},
   "outputs": [],
   "source": [
    "columns_to_drop = ['overview', 'original_title', 'genre_id', 'movieId', 'timestamp']"
   ]
  },
  {
   "cell_type": "code",
   "execution_count": 704,
   "metadata": {},
   "outputs": [],
   "source": [
    "movies_genre_rating_df = drop_column(movies_genre_rating_df, columns_to_drop)"
   ]
  },
  {
   "cell_type": "code",
   "execution_count": 705,
   "metadata": {},
   "outputs": [],
   "source": [
    "movies_genre_rating_casts_df = merge_two_dfs(movies_genre_rating_df, casts_df, 'movie_id', 'movie_id', how= 'inner')"
   ]
  },
  {
   "cell_type": "code",
   "execution_count": 706,
   "metadata": {},
   "outputs": [],
   "source": [
    "movies_genre_rating_casts_df = rename_column(movies_genre_rating_casts_df, 'name_x', \"genre_name\")\n",
    "movies_genre_rating_casts_df = rename_column(movies_genre_rating_casts_df, 'name_y', \"cast_name\")"
   ]
  },
  {
   "cell_type": "code",
   "execution_count": 707,
   "metadata": {},
   "outputs": [],
   "source": [
    "columns_to_drop = ['credit_id', 'id', 'order', 'profile_path', 'cast_id']"
   ]
  },
  {
   "cell_type": "code",
   "execution_count": 708,
   "metadata": {},
   "outputs": [],
   "source": [
    "movies_genre_rating_casts_df = drop_column(movies_genre_rating_casts_df, columns_to_drop)"
   ]
  },
  {
   "cell_type": "code",
   "execution_count": 709,
   "metadata": {},
   "outputs": [],
   "source": [
    "order_column_list = ['adult', 'budget', 'original_language', 'popularity', 'release_date',\n",
    "       'revenue', 'runtime', 'status', 'movie_id', 'title', 'video', 'vote_average',\n",
    "       'vote_count', 'genre_name', 'userId', 'cast_name',\n",
    "       'character', 'gender', 'rating']"
   ]
  },
  {
   "cell_type": "code",
   "execution_count": 710,
   "metadata": {},
   "outputs": [],
   "source": [
    "movies_genre_rating_casts_df = movies_genre_rating_casts_df.reindex(columns=order_column_list)"
   ]
  },
  {
   "cell_type": "code",
   "execution_count": 711,
   "metadata": {},
   "outputs": [],
   "source": [
    "def get_missing_values(df):\n",
    "        features_with_missing_values = [features for features in df.columns if\n",
    "                                        df[features].isnull().sum()>0]\n",
    "        for features in features_with_missing_values:\n",
    "            print(features, np.round(df[features].isnull().sum(), 4), \"missing Values\")"
   ]
  },
  {
   "cell_type": "code",
   "execution_count": 712,
   "metadata": {},
   "outputs": [
    {
     "name": "stdout",
     "output_type": "stream",
     "text": [
      "cast_name 71 missing Values\n",
      "character 3670 missing Values\n",
      "gender 71 missing Values\n"
     ]
    }
   ],
   "source": [
    "missing_values = get_missing_values(movies_genre_rating_casts_df)"
   ]
  },
  {
   "cell_type": "code",
   "execution_count": 713,
   "metadata": {},
   "outputs": [],
   "source": [
    "def fill_missing_cat(data,col,value):\n",
    "    data[col] = data[col].fillna(value)\n",
    "    return data"
   ]
  },
  {
   "cell_type": "code",
   "execution_count": 714,
   "metadata": {},
   "outputs": [],
   "source": [
    "list_of_columns = ['cast_name', 'character']"
   ]
  },
  {
   "cell_type": "code",
   "execution_count": 715,
   "metadata": {},
   "outputs": [],
   "source": [
    "movies_genre_rating_casts_df = fill_missing_cat(movies_genre_rating_casts_df, list_of_columns, 'Unknown')\n",
    "movies_genre_rating_casts_df = fill_missing_cat(movies_genre_rating_casts_df, 'gender', 0)"
   ]
  },
  {
   "cell_type": "code",
   "execution_count": 716,
   "metadata": {},
   "outputs": [],
   "source": [
    "missing_values = get_missing_values(movies_genre_rating_casts_df)"
   ]
  },
  {
   "cell_type": "code",
   "execution_count": 717,
   "metadata": {},
   "outputs": [],
   "source": [
    "string_column_list = ['adult','original_language', 'status', 'title', 'video', 'genre_name', 'cast_name', 'character']\n",
    "float_column_list = ['budget', 'popularity']\n",
    "datetime_column_list = ['release_date']\n"
   ]
  },
  {
   "cell_type": "code",
   "execution_count": 718,
   "metadata": {},
   "outputs": [],
   "source": [
    "def convert_object(data, column_list, data_type):\n",
    "    data[column_list] = data[column_list].astype(data_type)\n",
    "    return data\n",
    "    "
   ]
  },
  {
   "cell_type": "code",
   "execution_count": 719,
   "metadata": {},
   "outputs": [],
   "source": [
    "movies_genre_rating_casts_df = convert_object(movies_genre_rating_casts_df, float_column_list, float)"
   ]
  },
  {
   "cell_type": "code",
   "execution_count": 720,
   "metadata": {},
   "outputs": [],
   "source": [
    "movies_genre_rating_casts_df = convert_object(movies_genre_rating_casts_df, string_column_list, str)"
   ]
  },
  {
   "cell_type": "code",
   "execution_count": 721,
   "metadata": {},
   "outputs": [],
   "source": [
    "movies_genre_rating_casts_df['status'] = movies_genre_rating_casts_df['status'].replace(0, \"Uknown\")"
   ]
  },
  {
   "cell_type": "code",
   "execution_count": 722,
   "metadata": {},
   "outputs": [],
   "source": [
    "movies_genre_rating_casts_df['genre_name'] = movies_genre_rating_casts_df['genre_name'].replace(0, \"Uknown\")"
   ]
  },
  {
   "cell_type": "code",
   "execution_count": 723,
   "metadata": {},
   "outputs": [],
   "source": [
    "movies_genre_rating_casts_df['genre_name'] = movies_genre_rating_casts_df['genre_name'].replace(0, \"Uknown\")\n"
   ]
  },
  {
   "cell_type": "code",
   "execution_count": 724,
   "metadata": {},
   "outputs": [],
   "source": [
    "movies_genre_rating_casts_df = movies_genre_rating_casts_df[movies_genre_rating_casts_df['release_date']!=0]"
   ]
  },
  {
   "cell_type": "code",
   "execution_count": 725,
   "metadata": {},
   "outputs": [],
   "source": [
    "movies_genre_rating_casts_df[['release_year', 'release_month', 'release_day']] = movies_genre_rating_casts_df['release_date'].str.split('-', 2).tolist()"
   ]
  },
  {
   "cell_type": "code",
   "execution_count": 726,
   "metadata": {},
   "outputs": [],
   "source": [
    "movies_genre_rating_casts_df = drop_column(movies_genre_rating_casts_df, 'release_date')"
   ]
  },
  {
   "cell_type": "code",
   "execution_count": 727,
   "metadata": {},
   "outputs": [],
   "source": [
    "movies_genre_rating_casts_df.to_csv('../output/cleaned_data.csv')"
   ]
  },
  {
   "cell_type": "code",
   "execution_count": null,
   "metadata": {},
   "outputs": [],
   "source": []
  }
 ],
 "metadata": {
  "kernelspec": {
   "display_name": "Python 3",
   "language": "python",
   "name": "python3"
  },
  "language_info": {
   "codemirror_mode": {
    "name": "ipython",
    "version": 3
   },
   "file_extension": ".py",
   "mimetype": "text/x-python",
   "name": "python",
   "nbconvert_exporter": "python",
   "pygments_lexer": "ipython3",
   "version": "3.6.5"
  }
 },
 "nbformat": 4,
 "nbformat_minor": 4
}
